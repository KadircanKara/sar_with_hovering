{
 "cells": [
  {
   "cell_type": "code",
   "execution_count": 1,
   "metadata": {},
   "outputs": [
    {
     "name": "stderr",
     "output_type": "stream",
     "text": [
      "/Users/kadircan/opt/anaconda3/lib/python3.9/site-packages/scipy/__init__.py:146: UserWarning: A NumPy version >=1.17.3 and <1.25.0 is required for this version of SciPy (detected version 1.26.4\n",
      "  warnings.warn(f\"A NumPy version >={np_minversion} and <{np_maxversion}\"\n"
     ]
    },
    {
     "name": "stdout",
     "output_type": "stream",
     "text": [
      "   Total Distance  Percentage Connectivity  Mean Disconnected Time  \\\n",
      "0     6027.133175                -0.990385                    0.25   \n",
      "1     6004.845590                -0.980769                    0.25   \n",
      "2     6027.133175                -0.990385                    0.25   \n",
      "3     6033.164552                -1.000000                    0.00   \n",
      "\n",
      "   Max Disconnected Time  \n",
      "0                    2.0  \n",
      "1                    2.0  \n",
      "2                    2.0  \n",
      "3                    0.0  \n",
      "[[-1 -1 -1 -1 -1 -1 -1 -1 -1 -1 -1 -1 -1 -1 -1 -1 -1 -1 -1 -1 -1 -1 -1 -1\n",
      "  -1 -1]\n",
      " [-1 46 46 46 46 46 46 46 46 18 18 18 18 18 18 18 18 11 11 11 11 11 11 11\n",
      "  11 -1]\n",
      " [-1 61 61 61 61 61 61 61 61 61 61 61 61 62 62 62 62 62 62 62 62 62 62 62\n",
      "  62 -1]\n",
      " [-1 51 51 51 51 51 42 42 42 42 42 41 41 41 41 41 57 57 57 57 57 58 58 58\n",
      "  58 -1]\n",
      " [-1 30 30 22 22 23 23 15 15 14 14  7  7  6  6  5  5  4  4 13 12 19 20 21\n",
      "  38 -1]\n",
      " [-1 55 55 55 55 55 55 55 55 55 55 55 55 54 54 54 54 54 54 54 54 54 54 54\n",
      "  54 -1]\n",
      " [-1 49 56 48 40 32 33 24 16  8  0  1  2  3 10  9 17 25 34 26 27 36 28 29\n",
      "  37 -1]\n",
      " [-1 47 47 47 47 47 39 39 39 39 39 31 31 31 31 31 45 45 45 45 45 53 53 53\n",
      "  53 -1]\n",
      " [-1 60 60 60 52 52 52 59 59 59 50 50 50 43 43 43 35 35 35 44 44 44 63 63\n",
      "  63 -1]]\n"
     ]
    },
    {
     "name": "stderr",
     "output_type": "stream",
     "text": [
      "/Users/kadircan/Desktop/Portfolio/Projects/sar_with_hovering/Time.py:186: RuntimeWarning: invalid value encountered in divide\n",
      "  drone_speeds = drone_dists / step_time\n"
     ]
    },
    {
     "data": {
      "text/plain": [
       "'real_time_path_matrix = sol.real_time_path_matrix\\ntime_slots = sol.time_slots\\nprint(time_slots)\\nprint(real_time_path_matrix.shape[1])\\n\\nprint(sol.real_time_path_matrix)\\nprint(sol.connectivity_matrix)\\nprint(sol.connectivity_to_base_matrix)\\n'"
      ]
     },
     "execution_count": 1,
     "metadata": {},
     "output_type": "execute_result"
    }
   ],
   "source": [
    "import numpy as np\n",
    "import pandas as pd\n",
    "from scipy import io\n",
    "from PathOptimizationModel import moo_model, distance_soo_model\n",
    "from PathSolution import PathSolution\n",
    "from Time import get_real_paths\n",
    "from Connectivity import hovering_connectivity_constraint\n",
    "\n",
    "matlab_filepath = '/Users/kadircan/Documents/MATLAB/Thesis/ResultsTest'\n",
    "\n",
    "model = moo_model\n",
    "\n",
    "number_of_drones = 8\n",
    "cell_comm_range = 4\n",
    "min_visits = 1\n",
    "\n",
    "# Get All Solutions and Objectives\n",
    "scenario = f'g_8_a_50_n_{number_of_drones}_v_2.5_r_{cell_comm_range}_minv_{min_visits}_maxv_5_Nt_1_tarPos_12_ptdet_0.99_pfdet_0.01_detTh_0.9_maxIso_0'\n",
    "sols = np.load(f'Results/X/{scenario}_SolutionObjects.npy', allow_pickle=True)\n",
    "objs = np.load(f'Results/F/{scenario}_ObjectiveValues.npy', allow_pickle=True)\n",
    "objs = pd.DataFrame(objs,columns=model['F'])\n",
    "\n",
    "print(objs)\n",
    "\n",
    "# Extract Sol with Best Connectivity\n",
    "best_conn_idx = objs['Percentage Connectivity'].idxmin()\n",
    "best_mean_disconn_idx = objs['Mean Disconnected Time'].idxmin()\n",
    "best_max_disconn_idx = objs['Max Disconnected Time'].idxmin()\n",
    "best_distance_idx = objs['Total Distance'].idxmin()\n",
    "\n",
    "conn_sol:PathSolution = sols[best_conn_idx][0]\n",
    "mean_disconn_sol:PathSolution = sols[best_mean_disconn_idx][0]\n",
    "max_disconn_sol:PathSolution = sols[best_max_disconn_idx][0]\n",
    "distance_sol:PathSolution = sols[best_distance_idx][0]\n",
    "\n",
    "def check_real_paths(sol:PathSolution):\n",
    "    x_matrix, y_matrix = get_real_paths(sol)\n",
    "    print(\"X-Matrix:\\n\",pd.DataFrame(x_matrix).to_string(index=False))\n",
    "    print(\"Y-Matrix:\\n\",pd.DataFrame(y_matrix).to_string(index=False))\n",
    "    io.savemat(f\"{matlab_filepath}/{scenario}-BestPercentage Connectivity-x_matrix.mat\",{'array':x_matrix})\n",
    "    io.savemat(f\"{matlab_filepath}/{scenario}-BestPercentage Connectivity-y_matrix.mat\",{'array':y_matrix})    \n",
    "\n",
    "def check_connectivity(sol:PathSolution):\n",
    "    for time in range(sol.time_slots):\n",
    "        print(f\"step:{time}\")\n",
    "        drone_positions = sol.real_time_path_matrix[:,time]\n",
    "        connectivity = sol.connectivity_matrix[time]\n",
    "        connectivity_to_base = sol.connectivity_to_base_matrix[time]\n",
    "        print(f\"drone positions:\\n{drone_positions}\")\n",
    "        print(f\"connectivity matrix:\\n{connectivity}\")\n",
    "        print(f\"connectivity to base matrix:\\n{connectivity_to_base}\")\n",
    "\n",
    "# print(f\"Path Matrix:\\n{sol.real_time_path_matrix}\")\n",
    "\n",
    "# check_real_paths(distance_sol)\n",
    "hovering_connectivity_constraint(conn_sol)\n",
    "\n",
    "'''real_time_path_matrix = sol.real_time_path_matrix\n",
    "time_slots = sol.time_slots\n",
    "print(time_slots)\n",
    "print(real_time_path_matrix.shape[1])\n",
    "\n",
    "print(sol.real_time_path_matrix)\n",
    "print(sol.connectivity_matrix)\n",
    "print(sol.connectivity_to_base_matrix)\n",
    "'''\n",
    "\n",
    "# best_conn_value = objs.loc[objs['Percentage Connectivity'].idxmin()]\n",
    "# best_conn_value"
   ]
  },
  {
   "cell_type": "code",
   "execution_count": null,
   "metadata": {},
   "outputs": [],
   "source": [
    "# PATH ANIMATION TEST\n",
    "\n",
    "# Path animation function\n",
    "\n",
    "from PathInfo import *\n",
    "from PathSolution import *\n",
    "\n",
    "scenario_info = {\n",
    "    'grid_size': 8,\n",
    "    'cell_side_length': 50,\n",
    "    'number_of_drones': 4,\n",
    "    'max_drone_speed': 2.5, # m/s\n",
    "    'comm_cell_range': 4,  # 2 cells\n",
    "    'min_visits': 1,  # Minimum number of cell visits\n",
    "    'max_visits':5, # Maximum number of cell visits\n",
    "    'number_of_targets': 1,\n",
    "    'target_positions':12,\n",
    "    'true_detection_probability': 0.99,\n",
    "    'false_detection_probability': 0.01,\n",
    "    'detection_threshold': 0.9,\n",
    "    'max_isolated_time': 0,\n",
    "}"
   ]
  }
 ],
 "metadata": {
  "kernelspec": {
   "display_name": "Python 3",
   "language": "python",
   "name": "python3"
  },
  "language_info": {
   "codemirror_mode": {
    "name": "ipython",
    "version": 3
   },
   "file_extension": ".py",
   "mimetype": "text/x-python",
   "name": "python",
   "nbconvert_exporter": "python",
   "pygments_lexer": "ipython3",
   "version": "3.9.7"
  }
 },
 "nbformat": 4,
 "nbformat_minor": 2
}
